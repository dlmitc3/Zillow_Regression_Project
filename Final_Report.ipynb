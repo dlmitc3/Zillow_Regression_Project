{
 "cells": [
  {
   "cell_type": "markdown",
   "id": "0c80e9d5",
   "metadata": {},
   "source": [
    "**Good Morning, My name is David Mitchell and I am a Junior data scientist on the Zillow data science team, and today I will be giving a short presentation on my findings. I have sussesfully conducted data analysis on the zillow data from the following countys and can with __% certinatiy product the property tax assessed value of Single Family Properties. And while the data use was from 2017 all models should be capible of proforming the same on update data.**"
   ]
  },
  {
   "cell_type": "code",
   "execution_count": 1,
   "id": "efee5a7b",
   "metadata": {},
   "outputs": [],
   "source": [
    "import acquire\n",
    "import prepare\n",
    "import exacute66\n",
    "import pandas as pd\n",
    "\n",
    "import warnings\n",
    "warnings.filterwarnings('ignore')"
   ]
  },
  {
   "cell_type": "markdown",
   "id": "fad9f9d5",
   "metadata": {},
   "source": [
    "# Project Overview"
   ]
  },
  {
   "cell_type": "markdown",
   "id": "5d2370a1",
   "metadata": {},
   "source": [
    "We will conduct an in depth analysis of Zillow property data from 2017. We will use exploratory analysis techniques to identify the key drivers of the assessed tax value for those properties, then use machine learning algorithms to create a model capable of predicting tax values based on features of the property.\n",
    "\n"
   ]
  },
  {
   "cell_type": "markdown",
   "id": "d3af9d9e",
   "metadata": {},
   "source": [
    "# Project Description\n",
    "\n"
   ]
  },
  {
   "cell_type": "markdown",
   "id": "88cc8ee7",
   "metadata": {},
   "source": [
    "Property values have skyrocketed over the last two years. With such rapid changes in home values, predicting those values has become even more challenging than before. Since Zillow's estimate of home value is one of the primary drivers of its website traffic, having a reliable estimate is paramount. Any improvement we can make on the previous model will help Zillow out-estimate its competitors and keep them at the top as the most trusted name in real estate technology.\n",
    "\n",
    "This project will analyze property attributes in relation to their 2017 assessed tax value, develop a model for predicting that value based on those attributes, and leave with recommendations for how to improve future predictions."
   ]
  },
  {
   "cell_type": "markdown",
   "id": "556b42bd",
   "metadata": {},
   "source": [
    "# Project Goals\n",
    "\n"
   ]
  },
  {
   "cell_type": "markdown",
   "id": "80f5dd79",
   "metadata": {},
   "source": [
    "By improving upon the previous model, Zillow can enhance it's reputation for reliable property value estimates and better position itself in the real estate technology marketplace."
   ]
  },
  {
   "cell_type": "markdown",
   "id": "0c1f6195",
   "metadata": {},
   "source": [
    "# Acquisition"
   ]
  },
  {
   "cell_type": "markdown",
   "id": "29d83224",
   "metadata": {},
   "source": [
    "In this stage, we use a SQL query to access the Codeup MySQL database and join together all the relevant data using the following tables:\n",
    "\n",
    "- properties_2017\n",
    "- propertylandusetype\n",
    "- predictions_2017\n",
    "\n",
    "The data obtained includes all properties in the dataset which had a transaction in 2017."
   ]
  },
  {
   "cell_type": "markdown",
   "id": "4463a282",
   "metadata": {},
   "source": [
    "**The zillow_2017_data function from the acquire module performs this acquisition.**\n",
    "\n"
   ]
  },
  {
   "cell_type": "code",
   "execution_count": 2,
   "id": "83d78bc6",
   "metadata": {},
   "outputs": [
    {
     "name": "stdout",
     "output_type": "stream",
     "text": [
      "Reading from local CSV...\n"
     ]
    }
   ],
   "source": [
    "# acquire the data from the Codeup cloud database\n",
    "df = acquire.zillow_2017_data()"
   ]
  },
  {
   "cell_type": "code",
   "execution_count": 3,
   "id": "7505ccd1",
   "metadata": {},
   "outputs": [
    {
     "name": "stdout",
     "output_type": "stream",
     "text": [
      "<class 'pandas.core.frame.DataFrame'>\n",
      "RangeIndex: 52441 entries, 0 to 52440\n",
      "Data columns (total 9 columns):\n",
      " #   Column                        Non-Null Count  Dtype  \n",
      "---  ------                        --------------  -----  \n",
      " 0   bedroomcnt                    52441 non-null  float64\n",
      " 1   bathroomcnt                   52441 non-null  float64\n",
      " 2   calculatedfinishedsquarefeet  52359 non-null  float64\n",
      " 3   taxvaluedollarcnt             52440 non-null  float64\n",
      " 4   yearbuilt                     52325 non-null  float64\n",
      " 5   fips                          52441 non-null  float64\n",
      " 6   garagetotalsqft               18015 non-null  float64\n",
      " 7   poolcnt                       11096 non-null  float64\n",
      " 8   lotsizesquarefeet             52072 non-null  float64\n",
      "dtypes: float64(9)\n",
      "memory usage: 3.6 MB\n"
     ]
    }
   ],
   "source": [
    "df.info()"
   ]
  },
  {
   "cell_type": "code",
   "execution_count": 4,
   "id": "c9ce5c9e",
   "metadata": {},
   "outputs": [
    {
     "data": {
      "text/html": [
       "<div>\n",
       "<style scoped>\n",
       "    .dataframe tbody tr th:only-of-type {\n",
       "        vertical-align: middle;\n",
       "    }\n",
       "\n",
       "    .dataframe tbody tr th {\n",
       "        vertical-align: top;\n",
       "    }\n",
       "\n",
       "    .dataframe thead th {\n",
       "        text-align: right;\n",
       "    }\n",
       "</style>\n",
       "<table border=\"1\" class=\"dataframe\">\n",
       "  <thead>\n",
       "    <tr style=\"text-align: right;\">\n",
       "      <th></th>\n",
       "      <th>bedroomcnt</th>\n",
       "      <th>bathroomcnt</th>\n",
       "      <th>calculatedfinishedsquarefeet</th>\n",
       "      <th>taxvaluedollarcnt</th>\n",
       "      <th>yearbuilt</th>\n",
       "      <th>fips</th>\n",
       "      <th>garagetotalsqft</th>\n",
       "      <th>poolcnt</th>\n",
       "      <th>lotsizesquarefeet</th>\n",
       "    </tr>\n",
       "  </thead>\n",
       "  <tbody>\n",
       "    <tr>\n",
       "      <th>0</th>\n",
       "      <td>4.0</td>\n",
       "      <td>3.5</td>\n",
       "      <td>3100.0</td>\n",
       "      <td>1023282.0</td>\n",
       "      <td>1998.0</td>\n",
       "      <td>6059.0</td>\n",
       "      <td>633.0</td>\n",
       "      <td>NaN</td>\n",
       "      <td>4506.0</td>\n",
       "    </tr>\n",
       "    <tr>\n",
       "      <th>1</th>\n",
       "      <td>2.0</td>\n",
       "      <td>1.0</td>\n",
       "      <td>1465.0</td>\n",
       "      <td>464000.0</td>\n",
       "      <td>1967.0</td>\n",
       "      <td>6111.0</td>\n",
       "      <td>0.0</td>\n",
       "      <td>NaN</td>\n",
       "      <td>12647.0</td>\n",
       "    </tr>\n",
       "    <tr>\n",
       "      <th>2</th>\n",
       "      <td>3.0</td>\n",
       "      <td>2.0</td>\n",
       "      <td>1243.0</td>\n",
       "      <td>564778.0</td>\n",
       "      <td>1962.0</td>\n",
       "      <td>6059.0</td>\n",
       "      <td>440.0</td>\n",
       "      <td>1.0</td>\n",
       "      <td>8432.0</td>\n",
       "    </tr>\n",
       "    <tr>\n",
       "      <th>3</th>\n",
       "      <td>4.0</td>\n",
       "      <td>3.0</td>\n",
       "      <td>2376.0</td>\n",
       "      <td>145143.0</td>\n",
       "      <td>1970.0</td>\n",
       "      <td>6037.0</td>\n",
       "      <td>NaN</td>\n",
       "      <td>1.0</td>\n",
       "      <td>13038.0</td>\n",
       "    </tr>\n",
       "    <tr>\n",
       "      <th>4</th>\n",
       "      <td>4.0</td>\n",
       "      <td>3.0</td>\n",
       "      <td>2962.0</td>\n",
       "      <td>773303.0</td>\n",
       "      <td>1950.0</td>\n",
       "      <td>6037.0</td>\n",
       "      <td>NaN</td>\n",
       "      <td>1.0</td>\n",
       "      <td>63000.0</td>\n",
       "    </tr>\n",
       "  </tbody>\n",
       "</table>\n",
       "</div>"
      ],
      "text/plain": [
       "   bedroomcnt  bathroomcnt  calculatedfinishedsquarefeet  taxvaluedollarcnt  \\\n",
       "0         4.0          3.5                        3100.0          1023282.0   \n",
       "1         2.0          1.0                        1465.0           464000.0   \n",
       "2         3.0          2.0                        1243.0           564778.0   \n",
       "3         4.0          3.0                        2376.0           145143.0   \n",
       "4         4.0          3.0                        2962.0           773303.0   \n",
       "\n",
       "   yearbuilt    fips  garagetotalsqft  poolcnt  lotsizesquarefeet  \n",
       "0     1998.0  6059.0            633.0      NaN             4506.0  \n",
       "1     1967.0  6111.0              0.0      NaN            12647.0  \n",
       "2     1962.0  6059.0            440.0      1.0             8432.0  \n",
       "3     1970.0  6037.0              NaN      1.0            13038.0  \n",
       "4     1950.0  6037.0              NaN      1.0            63000.0  "
      ]
     },
     "execution_count": 4,
     "metadata": {},
     "output_type": "execute_result"
    }
   ],
   "source": [
    "df.head()"
   ]
  },
  {
   "cell_type": "markdown",
   "id": "8d0376af",
   "metadata": {},
   "source": [
    "# Preparation\n",
    "\n"
   ]
  },
  {
   "cell_type": "markdown",
   "id": "98d1e272",
   "metadata": {},
   "source": [
    "In this stage, we clean and prepare the data for further exploration and modeling and encapsulate the relevant code in the prepare modele.\n",
    "\n",
    "The prep_zillow_1 function accomplishes the following:\n",
    "\n",
    "- Replaces null values for garage area and pool count with 0's, since null values likely represent no garage/pool on the property\n",
    "- Checks for null values and removes all rows with null values if the number of null values is less than 5% the number of observations in the dataset.\n",
    "    - Less than 5% of values is judged to not have a significant effect on a large dataset. Greater than 5% of values might require additional consideration.\n",
    "    - In this case we removed about 0.2% of the total observations due to null values\n",
    "- Renames columns for readability\n",
    "- Changes data types where appropriate (such as numerical codes into string values)\n",
    "- Adds a feature 'age', which represents years since the home was constructed"
   ]
  },
  {
   "cell_type": "code",
   "execution_count": 5,
   "id": "2dcfbd76",
   "metadata": {},
   "outputs": [],
   "source": [
    "# clean and prep the data using the steps outlined above\n",
    "df = prepare.prep_zillow_1(df)"
   ]
  },
  {
   "cell_type": "markdown",
   "id": "35b94116",
   "metadata": {},
   "source": [
    "The train_test_validate_split function Splits the data into train, test, and validate samples\n",
    "\n"
   ]
  },
  {
   "cell_type": "code",
   "execution_count": 6,
   "id": "a762669b",
   "metadata": {},
   "outputs": [
    {
     "name": "stdout",
     "output_type": "stream",
     "text": [
      "train\t n = 29096\n",
      "test\t n = 10392\n",
      "validate n = 12471\n"
     ]
    }
   ],
   "source": [
    "# split the data into three samples and print the sample sizes\n",
    "train, test, validate = prepare.train_test_validate_split(df)"
   ]
  },
  {
   "cell_type": "markdown",
   "id": "5dfbed89",
   "metadata": {},
   "source": [
    "**Removing Outliers**\n",
    "\n",
    "During initial exploration, it was discovered that extreme outliers exist in the categories of tax_value, bedrooms, bathrooms, sqft, and age.\n",
    "\n",
    "We judge that out model will generalize more effectively if it is focused on the typical (i.e. median) homes. Further, we expect that markets for luxury and historical homes (likely represented by these outliers) are considerably different than the general home market, and that an altogether separate model would be more useful for predicting the values of such homes.\n",
    "\n",
    "We will therefore drop outliers from this dataset.\n",
    "\n",
    "The remove outliers function calculates a range defining outliers based on the training sample, then removes values outside this range in all samples."
   ]
  },
  {
   "cell_type": "code",
   "execution_count": 7,
   "id": "117e61cd",
   "metadata": {},
   "outputs": [
    {
     "name": "stdout",
     "output_type": "stream",
     "text": [
      "train\t n = 19903\n",
      "test\t n = 7125\n",
      "validate n = 8565\n"
     ]
    }
   ],
   "source": [
    "# remove outliers based on a range calculated from the training sample\n",
    "train, validate, test = prepare.remove_outliers(train, validate, test, 1.5, ['bedrooms', 'bathrooms',\n",
    "                                                                             'sqft', 'age', 'tax_value',\n",
    "                                                                             'garage_sqft', 'pools', 'lot_sqft'])"
   ]
  },
  {
   "cell_type": "markdown",
   "id": "19f018ee",
   "metadata": {},
   "source": [
    "# Exploration"
   ]
  },
  {
   "cell_type": "markdown",
   "id": "20824006",
   "metadata": {},
   "source": [
    "### Which features have the highest correlations with tax_value? "
   ]
  },
  {
   "cell_type": "markdown",
   "id": "ef20140a",
   "metadata": {},
   "source": [
    "The value_correlations() function from the explore module displays a heatmap of correlations between each feature and our target variable."
   ]
  },
  {
   "cell_type": "code",
   "execution_count": 8,
   "id": "9d9e01f3",
   "metadata": {},
   "outputs": [
    {
     "data": {
      "image/png": "[encoded data removed]",
      "text/plain": [
       "<Figure size 720x576 with 2 Axes>"
      ]
     },
     "metadata": {
      "needs_background": "light"
     },
     "output_type": "display_data"
    }
   ],
   "source": [
    "# use seaborn to visualize the correlations with a heatmap\n",
    "exacute66.value_correlations(train)"
   ]
  },
  {
   "cell_type": "markdown",
   "id": "a1f6d132",
   "metadata": {},
   "source": [
    "We can see that of our features, sqft and bathrooms have the highest correlation with the tax value of the home. The .48 and .29 r-values are considerably higher than the next highest correlation of .23"
   ]
  },
  {
   "cell_type": "markdown",
   "id": "5308dd66",
   "metadata": {},
   "source": [
    "**Are these correlation values statistically significant?**\n"
   ]
  },
  {
   "cell_type": "markdown",
   "id": "424a355e",
   "metadata": {},
   "source": [
    "### Further exploration: Is there a significant correlation between number of bathrooms and value?"
   ]
  },
  {
   "cell_type": "markdown",
   "id": "0d257f26",
   "metadata": {},
   "source": [
    "The value_by_bathrooms function from the explore module displays boxplots for each number of bathrooms in our sample. We can see that as the nuber of bathrooms increases, the average value tends to be higher, and the overall distribution of values tends to be higher as well."
   ]
  },
  {
   "cell_type": "code",
   "execution_count": 9,
   "id": "bbd684a7",
   "metadata": {},
   "outputs": [
    {
     "data": {
      "image/png": "[encoded data removed]",
      "text/plain": [
       "<Figure size 720x576 with 1 Axes>"
      ]
     },
     "metadata": {
      "needs_background": "light"
     },
     "output_type": "display_data"
    }
   ],
   "source": [
    "# use seaborn to visualize property value by number of bathrooms with boxplots\n",
    "exacute66.value_by_bathrooms(train)\n"
   ]
  },
  {
   "cell_type": "markdown",
   "id": "25017afc",
   "metadata": {},
   "source": [
    "#### The correlation_test function from the explore module performs a Pearson's r statistical test for correlation:\n",
    "\n"
   ]
  },
  {
   "cell_type": "code",
   "execution_count": 10,
   "id": "6d58ed49",
   "metadata": {},
   "outputs": [
    {
     "name": "stdout",
     "output_type": "stream",
     "text": [
      "H0: There is no linear correlation between bathrooms and tax_value.\n",
      "H1: There is a linear correlation between bathrooms and tax_value.\n",
      "\n",
      "r =  0.37\n",
      "p =  0.0\n",
      "\n",
      "Reject H0\n"
     ]
    }
   ],
   "source": [
    "# conduct a statistical test for correlation\n",
    "exacute66.correlation_test(train.bathrooms, train.tax_value)"
   ]
  },
  {
   "cell_type": "markdown",
   "id": "861f5283",
   "metadata": {},
   "source": [
    "With a p-value of virtually 0, we reject the null hypothesis and proceed under the assumption that there is a linear relationship between number of bathrooms and tax_value. since this relationship is unlikely to be due to chance."
   ]
  },
  {
   "cell_type": "markdown",
   "id": "157b402b",
   "metadata": {},
   "source": [
    "### Further exploration: Is there a significant correlation between the number of bedrooms in a home and it's value?"
   ]
  },
  {
   "cell_type": "markdown",
   "id": "8a203f6f",
   "metadata": {},
   "source": [
    "The value_by_bedrooms function from the explore module displays boxplots for each number of bedrooms in our sample. We can see that as the nuber of bedrooms increases, the average value tends to be higher, and the overall distribution of values tends to be higher as well."
   ]
  },
  {
   "cell_type": "code",
   "execution_count": 11,
   "id": "f31fcf69",
   "metadata": {},
   "outputs": [
    {
     "data": {
      "image/png": "[encoded data removed]",
      "text/plain": [
       "<Figure size 720x576 with 1 Axes>"
      ]
     },
     "metadata": {
      "needs_background": "light"
     },
     "output_type": "display_data"
    }
   ],
   "source": [
    "# conduct a statistical test for correlation\n",
    "exacute66.value_by_bedrooms(train)"
   ]
  },
  {
   "cell_type": "markdown",
   "id": "795cf038",
   "metadata": {},
   "source": [
    "The correlation_test function from the explore module performs a Pearson's r statistical test for correlation:\n",
    "\n"
   ]
  },
  {
   "cell_type": "code",
   "execution_count": 12,
   "id": "8cf0b8da",
   "metadata": {},
   "outputs": [
    {
     "name": "stdout",
     "output_type": "stream",
     "text": [
      "H0: There is no linear correlation between bedrooms and tax_value.\n",
      "H1: There is a linear correlation between bedrooms and tax_value.\n",
      "\n",
      "r =  0.18\n",
      "p =  0.0\n",
      "\n",
      "Reject H0\n"
     ]
    }
   ],
   "source": [
    "# conduct a statistical test for correlation\n",
    "exacute66.correlation_test(train.bedrooms, train.tax_value)"
   ]
  },
  {
   "cell_type": "markdown",
   "id": "b2314192",
   "metadata": {},
   "source": [
    "With a p-value of virtually 0, we reject the null hypothesis and proceed under the assumption that there is a linear relationship between the number of bedrooms in a home and tax_value, since this relationship in our sample is unlikely to be due to chance."
   ]
  },
  {
   "cell_type": "markdown",
   "id": "62c6a737",
   "metadata": {},
   "source": [
    "### Further exploration: Is there a significant correlation between a home's square footage and it's value?"
   ]
  },
  {
   "cell_type": "markdown",
   "id": "d5833f6e",
   "metadata": {},
   "source": [
    "The sqft_vs_value function from the explore module displays a scatter plot of the relationship between these two variables.\n",
    "\n",
    "(a random sample of n=1000 data is used to make the plot less dense))\n",
    "\n",
    "We can see that, while there does tend to be a wide disbursement of values at all points of the distribution, There is an overall trend of an increase in value as the square footage increases."
   ]
  },
  {
   "cell_type": "code",
   "execution_count": 13,
   "id": "f56a1f23",
   "metadata": {},
   "outputs": [
    {
     "data": {
      "image/png": "[encoded data removed]",
      "text/plain": [
       "<Figure size 360x360 with 1 Axes>"
      ]
     },
     "metadata": {
      "needs_background": "light"
     },
     "output_type": "display_data"
    }
   ],
   "source": [
    "# display a scatter plot with a best-fit line using seaborn\n",
    "exacute66.sqft_vs_value(train)\n"
   ]
  },
  {
   "cell_type": "markdown",
   "id": "5ae7caff",
   "metadata": {},
   "source": [
    "**The correlation_test function from the explore module performs a Pearson's r statistical test for correlation:**"
   ]
  },
  {
   "cell_type": "code",
   "execution_count": 14,
   "id": "d7d1cbe0",
   "metadata": {},
   "outputs": [
    {
     "name": "stdout",
     "output_type": "stream",
     "text": [
      "H0: There is no linear correlation between sqft and tax_value.\n",
      "H1: There is a linear correlation between sqft and tax_value.\n",
      "\n",
      "r =  0.44\n",
      "p =  0.0\n",
      "\n",
      "Reject H0\n"
     ]
    }
   ],
   "source": [
    "# conduct a statistical test for correlation\n",
    "exacute66.correlation_test(train.sqft, train.tax_value)"
   ]
  },
  {
   "cell_type": "markdown",
   "id": "cd54c4c9",
   "metadata": {},
   "source": [
    "With a p-value of virtually 0, we reject the null hypothesis and proceed under the assumption that there is a linear relationship between the square footage of the home and tax_value, since this relationship in our sample is unlikely to be due to chance."
   ]
  },
  {
   "cell_type": "markdown",
   "id": "72c7dbaa",
   "metadata": {},
   "source": [
    "## Exploration: Summary\n",
    "\n"
   ]
  },
  {
   "cell_type": "markdown",
   "id": "6941dd5e",
   "metadata": {},
   "source": [
    "In exploring the relationship between each of the features and our target, we found significant linear correlation between tax value and square footage, bedrooms, and bathrooms. We will use these features in our model moving forward. For simplicity in creating our initial models, we will omit all other variables for the time being.\n",
    "\n",
    "Since age of the property also appears to be correlated with value, this is a feature that we may include in subsequent iterations of modeling."
   ]
  },
  {
   "cell_type": "markdown",
   "id": "5ccd2e42",
   "metadata": {},
   "source": [
    "# Modeling"
   ]
  },
  {
   "cell_type": "code",
   "execution_count": 15,
   "id": "7584f4c9",
   "metadata": {},
   "outputs": [],
   "source": [
    "# identify the name of the target feature\n",
    "target = 'tax_value'"
   ]
  },
  {
   "cell_type": "markdown",
   "id": "e3d74599",
   "metadata": {},
   "source": [
    "Scaling the data\n",
    "\n",
    "Next, we will scale the values of each of our quantitative features so that they will be appropriately compared to each other within our models. In this case, we have used a Min-Max scaler, which will convert all values to within a range of 0 to 1."
   ]
  },
  {
   "cell_type": "markdown",
   "id": "bea5a496",
   "metadata": {},
   "source": [
    "The scale_zillow function from the prepare module performs these scaling actions."
   ]
  },
  {
   "cell_type": "code",
   "execution_count": 16,
   "id": "c32d3efe",
   "metadata": {},
   "outputs": [],
   "source": [
    "# scale the data using sklearn MinMaxScaler()\n",
    "train, validate, test = prepare.scale_zillow(train, validate, test, target)"
   ]
  },
  {
   "cell_type": "markdown",
   "id": "647cbccc",
   "metadata": {},
   "source": [
    "### Encoding the data"
   ]
  },
  {
   "cell_type": "markdown",
   "id": "e1faef10",
   "metadata": {},
   "source": [
    "We will also encode each of our categorical features into a numerical data type that is interpretable by ML algorithms.\n",
    "\n",
    "The encode_zillow function from the prepare module performs these encoding actions."
   ]
  },
  {
   "cell_type": "code",
   "execution_count": 17,
   "id": "e6397d7c",
   "metadata": {},
   "outputs": [],
   "source": [
    "# encode the data using pandas' get_dummies\n",
    "train, validate, test = prepare.encode_zillow(train, validate, test, target)"
   ]
  },
  {
   "cell_type": "markdown",
   "id": "4fd02c39",
   "metadata": {},
   "source": [
    "### Establishing Baseline Performance"
   ]
  },
  {
   "cell_type": "markdown",
   "id": "23b07c55",
   "metadata": {},
   "source": [
    "The code below sets up the necessary infrastructure for storing information about each of our models and their performance"
   ]
  },
  {
   "cell_type": "code",
   "execution_count": 18,
   "id": "6ef3cd6a",
   "metadata": {},
   "outputs": [],
   "source": [
    "# set the model_number at 0, to be changing with each modeling iteration\n",
    "model_number = 0 \n",
    "# create empty dataframes for storing model results and metadata about each model\n",
    "model_info = pd.DataFrame()\n",
    "model_results = pd.DataFrame()"
   ]
  },
  {
   "cell_type": "markdown",
   "id": "5655b56e",
   "metadata": {},
   "source": [
    "Next we will establish our baseline predictions and evaluate their performance.\n",
    "\n",
    "To be able to determine whether our model gives useful predictions, we will compare it to a model that uses no features at all, and simply uses the mean value as a prediction for all observations.\n",
    "\n",
    "The run_baseline function from the exacute66 stores information about baseline predictions and their performance for later evaluation."
   ]
  },
  {
   "cell_type": "code",
   "execution_count": 20,
   "id": "b0ee356c",
   "metadata": {},
   "outputs": [],
   "source": [
    "# create baseline predictions and store information about their performance\n",
    "model_number, model_info, model_results = exacute66.run_baseline(train, validate, target, model_number, model_info, model_results)\n",
    "\n"
   ]
  },
  {
   "cell_type": "markdown",
   "id": "78f368dc",
   "metadata": {},
   "source": [
    "### Modeling: Ordinary Least Squares (OLS) Regression\n",
    "\n",
    "The run_OLS function from the model module creates various OLS Regression models and stores information about their performance for later evaluation, starting with our base set of features (bedrooms, bathrooms, sqft), then iteratively adding features one-by-one.\n",
    "\n"
   ]
  },
  {
   "cell_type": "code",
   "execution_count": 21,
   "id": "08d4f075",
   "metadata": {},
   "outputs": [],
   "source": [
    "# create OLS models and store information about their performance\n",
    "model_number, model_info, model_results = exacute66.run_OLS(train, validate, target, model_number, model_info, model_results)"
   ]
  },
  {
   "cell_type": "markdown",
   "id": "ca41f44c",
   "metadata": {},
   "source": [
    "### Modeling: LASSO + LARS\n",
    "\n",
    "The run_LassoLars function from the model module runs LASSO + LARS models, again varying the feature sets, and stores information about their performance for later evaluation."
   ]
  },
  {
   "cell_type": "code",
   "execution_count": 22,
   "id": "14e9b1db",
   "metadata": {},
   "outputs": [],
   "source": [
    "# create LASS+LARS models and store information about their performance\n",
    "model_number, model_info, model_results = exacute66.run_LassoLars(train, validate, target, model_number, model_info, model_results)"
   ]
  },
  {
   "cell_type": "markdown",
   "id": "99c2f3dd",
   "metadata": {},
   "source": [
    "### Modeling: Polynomial Regression\n"
   ]
  },
  {
   "cell_type": "code",
   "execution_count": 23,
   "id": "0d1e7055",
   "metadata": {},
   "outputs": [],
   "source": [
    "# create Polynomial Regression models and store information about their performance\n",
    "model_number, model_info, model_results = exacute66.run_PolyReg(train, validate, target, model_number, model_info, model_results)"
   ]
  },
  {
   "cell_type": "markdown",
   "id": "31c18414",
   "metadata": {},
   "source": [
    "# Model Evaluation\n",
    "\n"
   ]
  },
  {
   "cell_type": "markdown",
   "id": "493dd993",
   "metadata": {},
   "source": [
    "**Root Mean Squared Error (RMSE):** This is the metric we will use to evaluate the performance of our models. The RMSE tells us the standard deviation of the difference between our predictions and the actual values and therefore gives us an idea of how spread out the actual data points are around our regression line. Of the possible metrics for evaluating regression models, RMSE is easiest to interpret since it is expressed in units that are equivalent to our target variable (dollars in this case).\n",
    "\n",
    "Below, we pull information about the top 3 models and their performance, as well as our baseline performance."
   ]
  },
  {
   "cell_type": "code",
   "execution_count": 24,
   "id": "83251511",
   "metadata": {},
   "outputs": [
    {
     "data": {
      "text/html": [
       "<div>\n",
       "<style scoped>\n",
       "    .dataframe tbody tr th:only-of-type {\n",
       "        vertical-align: middle;\n",
       "    }\n",
       "\n",
       "    .dataframe tbody tr th {\n",
       "        vertical-align: top;\n",
       "    }\n",
       "\n",
       "    .dataframe thead tr th {\n",
       "        text-align: left;\n",
       "    }\n",
       "\n",
       "    .dataframe thead tr:last-of-type th {\n",
       "        text-align: right;\n",
       "    }\n",
       "</style>\n",
       "<table border=\"1\" class=\"dataframe\">\n",
       "  <thead>\n",
       "    <tr>\n",
       "      <th>metric_type</th>\n",
       "      <th colspan=\"2\" halign=\"left\">RMSE</th>\n",
       "    </tr>\n",
       "    <tr>\n",
       "      <th>sample_type</th>\n",
       "      <th>train</th>\n",
       "      <th>validate</th>\n",
       "    </tr>\n",
       "    <tr>\n",
       "      <th>model_number</th>\n",
       "      <th></th>\n",
       "      <th></th>\n",
       "    </tr>\n",
       "  </thead>\n",
       "  <tbody>\n",
       "    <tr>\n",
       "      <th>1</th>\n",
       "      <td>222873.796294</td>\n",
       "      <td>221651.735223</td>\n",
       "    </tr>\n",
       "    <tr>\n",
       "      <th>2</th>\n",
       "      <td>222868.728570</td>\n",
       "      <td>221627.689360</td>\n",
       "    </tr>\n",
       "    <tr>\n",
       "      <th>3</th>\n",
       "      <td>221038.235843</td>\n",
       "      <td>219634.374045</td>\n",
       "    </tr>\n",
       "    <tr>\n",
       "      <th>4</th>\n",
       "      <td>220932.951494</td>\n",
       "      <td>219442.329451</td>\n",
       "    </tr>\n",
       "    <tr>\n",
       "      <th>5</th>\n",
       "      <td>220932.951494</td>\n",
       "      <td>219442.329451</td>\n",
       "    </tr>\n",
       "    <tr>\n",
       "      <th>6</th>\n",
       "      <td>219827.011158</td>\n",
       "      <td>218108.644594</td>\n",
       "    </tr>\n",
       "    <tr>\n",
       "      <th>7</th>\n",
       "      <td>222874.056346</td>\n",
       "      <td>221650.782724</td>\n",
       "    </tr>\n",
       "    <tr>\n",
       "      <th>8</th>\n",
       "      <td>222869.161748</td>\n",
       "      <td>221630.458215</td>\n",
       "    </tr>\n",
       "    <tr>\n",
       "      <th>9</th>\n",
       "      <td>221038.886003</td>\n",
       "      <td>219641.386899</td>\n",
       "    </tr>\n",
       "    <tr>\n",
       "      <th>10</th>\n",
       "      <td>220933.673689</td>\n",
       "      <td>219450.126631</td>\n",
       "    </tr>\n",
       "    <tr>\n",
       "      <th>11</th>\n",
       "      <td>220933.673689</td>\n",
       "      <td>219450.126631</td>\n",
       "    </tr>\n",
       "    <tr>\n",
       "      <th>12</th>\n",
       "      <td>219827.803527</td>\n",
       "      <td>218116.537950</td>\n",
       "    </tr>\n",
       "    <tr>\n",
       "      <th>13</th>\n",
       "      <td>222367.668960</td>\n",
       "      <td>220997.764618</td>\n",
       "    </tr>\n",
       "    <tr>\n",
       "      <th>14</th>\n",
       "      <td>222246.686862</td>\n",
       "      <td>220898.371955</td>\n",
       "    </tr>\n",
       "    <tr>\n",
       "      <th>15</th>\n",
       "      <td>221953.998340</td>\n",
       "      <td>220712.652251</td>\n",
       "    </tr>\n",
       "    <tr>\n",
       "      <th>16</th>\n",
       "      <td>221782.568465</td>\n",
       "      <td>220643.215978</td>\n",
       "    </tr>\n",
       "    <tr>\n",
       "      <th>17</th>\n",
       "      <td>214164.509179</td>\n",
       "      <td>213207.186554</td>\n",
       "    </tr>\n",
       "    <tr>\n",
       "      <th>18</th>\n",
       "      <td>211253.566880</td>\n",
       "      <td>212243.948085</td>\n",
       "    </tr>\n",
       "    <tr>\n",
       "      <th>19</th>\n",
       "      <td>209354.397220</td>\n",
       "      <td>213843.386339</td>\n",
       "    </tr>\n",
       "    <tr>\n",
       "      <th>20</th>\n",
       "      <td>206601.887856</td>\n",
       "      <td>232659.200127</td>\n",
       "    </tr>\n",
       "    <tr>\n",
       "      <th>baseline</th>\n",
       "      <td>251385.270087</td>\n",
       "      <td>250628.414386</td>\n",
       "    </tr>\n",
       "  </tbody>\n",
       "</table>\n",
       "</div>"
      ],
      "text/plain": [
       "metric_type            RMSE               \n",
       "sample_type           train       validate\n",
       "model_number                              \n",
       "1             222873.796294  221651.735223\n",
       "2             222868.728570  221627.689360\n",
       "3             221038.235843  219634.374045\n",
       "4             220932.951494  219442.329451\n",
       "5             220932.951494  219442.329451\n",
       "6             219827.011158  218108.644594\n",
       "7             222874.056346  221650.782724\n",
       "8             222869.161748  221630.458215\n",
       "9             221038.886003  219641.386899\n",
       "10            220933.673689  219450.126631\n",
       "11            220933.673689  219450.126631\n",
       "12            219827.803527  218116.537950\n",
       "13            222367.668960  220997.764618\n",
       "14            222246.686862  220898.371955\n",
       "15            221953.998340  220712.652251\n",
       "16            221782.568465  220643.215978\n",
       "17            214164.509179  213207.186554\n",
       "18            211253.566880  212243.948085\n",
       "19            209354.397220  213843.386339\n",
       "20            206601.887856  232659.200127\n",
       "baseline      251385.270087  250628.414386"
      ]
     },
     "execution_count": 24,
     "metadata": {},
     "output_type": "execute_result"
    }
   ],
   "source": [
    "exacute66.display_model_results(model_results).T\n"
   ]
  },
  {
   "cell_type": "code",
   "execution_count": 27,
   "id": "a02eab48",
   "metadata": {},
   "outputs": [
    {
     "data": {
      "text/html": [
       "<div>\n",
       "<style scoped>\n",
       "    .dataframe tbody tr th:only-of-type {\n",
       "        vertical-align: middle;\n",
       "    }\n",
       "\n",
       "    .dataframe tbody tr th {\n",
       "        vertical-align: top;\n",
       "    }\n",
       "\n",
       "    .dataframe thead th {\n",
       "        text-align: right;\n",
       "    }\n",
       "</style>\n",
       "<table border=\"1\" class=\"dataframe\">\n",
       "  <thead>\n",
       "    <tr style=\"text-align: right;\">\n",
       "      <th></th>\n",
       "      <th>model_number</th>\n",
       "      <th>baseline</th>\n",
       "    </tr>\n",
       "    <tr>\n",
       "      <th>metric_type</th>\n",
       "      <th>sample_type</th>\n",
       "      <th></th>\n",
       "    </tr>\n",
       "  </thead>\n",
       "  <tbody>\n",
       "    <tr>\n",
       "      <th rowspan=\"2\" valign=\"top\">RMSE</th>\n",
       "      <th>train</th>\n",
       "      <td>251385.270087</td>\n",
       "    </tr>\n",
       "    <tr>\n",
       "      <th>validate</th>\n",
       "      <td>250628.414386</td>\n",
       "    </tr>\n",
       "  </tbody>\n",
       "</table>\n",
       "</div>"
      ],
      "text/plain": [
       "model_number                  baseline\n",
       "metric_type sample_type               \n",
       "RMSE        train        251385.270087\n",
       "            validate     250628.414386"
      ]
     },
     "execution_count": 27,
     "metadata": {},
     "output_type": "execute_result"
    }
   ],
   "source": [
    "exacute66.display_model_results(model_results[model_results.model_number == 'baseline'])\n"
   ]
  },
  {
   "cell_type": "code",
   "execution_count": 28,
   "id": "40ef315e",
   "metadata": {},
   "outputs": [
    {
     "data": {
      "text/html": [
       "<div>\n",
       "<style scoped>\n",
       "    .dataframe tbody tr th:only-of-type {\n",
       "        vertical-align: middle;\n",
       "    }\n",
       "\n",
       "    .dataframe tbody tr th {\n",
       "        vertical-align: top;\n",
       "    }\n",
       "\n",
       "    .dataframe thead th {\n",
       "        text-align: right;\n",
       "    }\n",
       "</style>\n",
       "<table border=\"1\" class=\"dataframe\">\n",
       "  <thead>\n",
       "    <tr style=\"text-align: right;\">\n",
       "      <th></th>\n",
       "      <th>model_number</th>\n",
       "      <th>17</th>\n",
       "      <th>18</th>\n",
       "      <th>19</th>\n",
       "    </tr>\n",
       "    <tr>\n",
       "      <th>metric_type</th>\n",
       "      <th>sample_type</th>\n",
       "      <th></th>\n",
       "      <th></th>\n",
       "      <th></th>\n",
       "    </tr>\n",
       "  </thead>\n",
       "  <tbody>\n",
       "    <tr>\n",
       "      <th rowspan=\"2\" valign=\"top\">RMSE</th>\n",
       "      <th>train</th>\n",
       "      <td>214164.509179</td>\n",
       "      <td>211253.566880</td>\n",
       "      <td>209354.397220</td>\n",
       "    </tr>\n",
       "    <tr>\n",
       "      <th>validate</th>\n",
       "      <td>213207.186554</td>\n",
       "      <td>212243.948085</td>\n",
       "      <td>213843.386339</td>\n",
       "    </tr>\n",
       "  </tbody>\n",
       "</table>\n",
       "</div>"
      ],
      "text/plain": [
       "model_number                        17             18             19\n",
       "metric_type sample_type                                             \n",
       "RMSE        train        214164.509179  211253.566880  209354.397220\n",
       "            validate     213207.186554  212243.948085  213843.386339"
      ]
     },
     "execution_count": 28,
     "metadata": {},
     "output_type": "execute_result"
    }
   ],
   "source": [
    "# get and display performance metrics for the top 3 models\n",
    "best_model_results = exacute66.get_best_model_results(model_results)\n",
    "exacute66.display_model_results(best_model_results)"
   ]
  },
  {
   "cell_type": "code",
   "execution_count": 29,
   "id": "b23feaad",
   "metadata": {},
   "outputs": [
    {
     "data": {
      "text/html": [
       "<div>\n",
       "<style scoped>\n",
       "    .dataframe tbody tr th:only-of-type {\n",
       "        vertical-align: middle;\n",
       "    }\n",
       "\n",
       "    .dataframe tbody tr th {\n",
       "        vertical-align: top;\n",
       "    }\n",
       "\n",
       "    .dataframe thead th {\n",
       "        text-align: right;\n",
       "    }\n",
       "</style>\n",
       "<table border=\"1\" class=\"dataframe\">\n",
       "  <thead>\n",
       "    <tr style=\"text-align: right;\">\n",
       "      <th></th>\n",
       "      <th>model_number</th>\n",
       "      <th>model_type</th>\n",
       "      <th>features</th>\n",
       "      <th>alpha</th>\n",
       "      <th>degree</th>\n",
       "    </tr>\n",
       "  </thead>\n",
       "  <tbody>\n",
       "    <tr>\n",
       "      <th>17</th>\n",
       "      <td>17</td>\n",
       "      <td>Polynomial Regression</td>\n",
       "      <td>[scaled_bedrooms, scaled_bathrooms, scaled_sqf...</td>\n",
       "      <td>NaN</td>\n",
       "      <td>2.0</td>\n",
       "    </tr>\n",
       "    <tr>\n",
       "      <th>18</th>\n",
       "      <td>18</td>\n",
       "      <td>Polynomial Regression</td>\n",
       "      <td>[scaled_bedrooms, scaled_bathrooms, scaled_sqf...</td>\n",
       "      <td>NaN</td>\n",
       "      <td>3.0</td>\n",
       "    </tr>\n",
       "    <tr>\n",
       "      <th>19</th>\n",
       "      <td>19</td>\n",
       "      <td>Polynomial Regression</td>\n",
       "      <td>[scaled_bedrooms, scaled_bathrooms, scaled_sqf...</td>\n",
       "      <td>NaN</td>\n",
       "      <td>4.0</td>\n",
       "    </tr>\n",
       "  </tbody>\n",
       "</table>\n",
       "</div>"
      ],
      "text/plain": [
       "   model_number             model_type  \\\n",
       "17           17  Polynomial Regression   \n",
       "18           18  Polynomial Regression   \n",
       "19           19  Polynomial Regression   \n",
       "\n",
       "                                             features  alpha  degree  \n",
       "17  [scaled_bedrooms, scaled_bathrooms, scaled_sqf...    NaN     2.0  \n",
       "18  [scaled_bedrooms, scaled_bathrooms, scaled_sqf...    NaN     3.0  \n",
       "19  [scaled_bedrooms, scaled_bathrooms, scaled_sqf...    NaN     4.0  "
      ]
     },
     "execution_count": 29,
     "metadata": {},
     "output_type": "execute_result"
    }
   ],
   "source": [
    "# display information about the top 3 models\n",
    "model_info[(model_info.model_number == 17)|(model_info.model_number == 18)|(model_info.model_number == 19)]"
   ]
  },
  {
   "cell_type": "markdown",
   "id": "095f6f5c",
   "metadata": {},
   "source": [
    "### Modeling - Final Test\n",
    "\n",
    "Now we will take the best model and evaluate its performance on our test sample. This will approximate the expected performance of this model for predicting prices of additional properties in real-time.\n",
    "\n",
    "**Model 18**, a Polynomial Regression to the 4th degree, is our highest performing model.\n",
    "\n",
    "It has an RMSE of 209,231 on the train sample and **210,815** on the validate sample.\n",
    "\n",
    "It uses the following features:\n",
    "\n",
    "- bedrooms\n",
    "- bathrooms\n",
    "- square feet\n",
    "- age\n",
    "- garage area\n",
    "- lot size\n",
    "- number of pools\n",
    "- location by FIPS code"
   ]
  },
  {
   "cell_type": "markdown",
   "id": "4f94d0ff",
   "metadata": {},
   "source": [
    "### The final_test_model18 function recreates the model and tests it's results."
   ]
  },
  {
   "cell_type": "code",
   "execution_count": 31,
   "id": "83e7b3fe",
   "metadata": {},
   "outputs": [
    {
     "name": "stdout",
     "output_type": "stream",
     "text": [
      "Model 3 RMSE:  $213,031.49\n"
     ]
    }
   ],
   "source": [
    "# calculate the RMSE for model 18\n",
    "exacute66.final_test_model18(train, test, target)"
   ]
  },
  {
   "cell_type": "markdown",
   "id": "c4ea6558",
   "metadata": {},
   "source": [
    "# What did we learn ?"
   ]
  },
  {
   "cell_type": "markdown",
   "id": "cc782713",
   "metadata": {},
   "source": [
    "We expect that our model will typically predict a value that is within approximately $218,000 of the actual value of the property. This large of an error makes this not an exceptionally useful model in many cases. However, this is 31,000 better than our baseline error of approximately 249,000. This indicates that we have successfully identified drivers of home value, and gives us a jumping off point for further analysis and modeling."
   ]
  },
  {
   "cell_type": "markdown",
   "id": "b0e99b7f",
   "metadata": {},
   "source": [
    "## Key Findings:\n",
    "\n",
    "We determined that the following factors are the some of the most significant drivers of home value:\n",
    "\n",
    "- number of bathrooms\n",
    "- square footage (of principal residence)"
   ]
  },
  {
   "cell_type": "markdown",
   "id": "559aa032",
   "metadata": {},
   "source": [
    "## Recommendations:\n",
    "\n",
    "Zillow should continue to collect data regarding the number of bedrooms and bathrooms in a home, as well as the home's area in square feet. This data has been conclusively shown to assist in predicting home values. If using this analysis to decide which homes are worth investing in, an investor should lean towards homes with higher values in these categories, all other considerations being equal."
   ]
  },
  {
   "cell_type": "markdown",
   "id": "bafab262",
   "metadata": {},
   "source": [
    "## Next Steps:\n",
    "\n",
    "**Deeper Analysis:** Given more time, I would do a deeper exploration of the other features included in our best performing models, including additional visualizations and statistical testing.\n",
    "\n",
    "**Feature Selection and Engineering:** Additionally, I would explore the other features available in the dataset, which could be done directly through visualization and statistical testing, or they could be identified through automated features selection techniques such as Recursive Feature Elimination.\n",
    "\n",
    "**Narrow the Focus:** Further, since real estate markets are based heavily on location, we should expect models to perform better which individually focus on a distinct geographic area.\n",
    "\n",
    "**Additional Data:** In addition to narrowing by geography, perhaps the most effective way to improve this model would be to gather additional information about the surrounding geography of each property, such as school quality, crime rates, etc.\n",
    "\n",
    "**The goal would be to produce a model that has an error small enough to be useful to someone intending to sell or purchase a single family home.**"
   ]
  },
  {
   "cell_type": "code",
   "execution_count": null,
   "id": "e634512e",
   "metadata": {},
   "outputs": [],
   "source": []
  }
 ],
 "metadata": {
  "kernelspec": {
   "display_name": "Python 3 (ipykernel)",
   "language": "python",
   "name": "python3"
  },
  "language_info": {
   "codemirror_mode": {
    "name": "ipython",
    "version": 3
   },
   "file_extension": ".py",
   "mimetype": "text/x-python",
   "name": "python",
   "nbconvert_exporter": "python",
   "pygments_lexer": "ipython3",
   "version": "3.9.7"
  }
 },
 "nbformat": 4,
 "nbformat_minor": 5
}
